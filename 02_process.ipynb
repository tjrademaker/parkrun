{
 "cells": [
  {
   "cell_type": "markdown",
   "id": "dccc6c0f",
   "metadata": {},
   "source": [
    "# Process data"
   ]
  },
  {
   "cell_type": "code",
   "execution_count": null,
   "id": "799054a7",
   "metadata": {},
   "outputs": [],
   "source": [
    "import os\n",
    "import numpy as np\n",
    "import pandas as pd\n",
    "from datetime import date\n",
    "from pandas.api.types import CategoricalDtype"
   ]
  },
  {
   "cell_type": "markdown",
   "id": "702a55cc",
   "metadata": {},
   "source": [
    "## load raw data"
   ]
  },
  {
   "cell_type": "code",
   "execution_count": null,
   "id": "1ec39015",
   "metadata": {},
   "outputs": [],
   "source": [
    "tmp = []\n",
    "\n",
    "for run in os.listdir('data'):\n",
    "    tmp.append(pd.read_csv(f'data/{run}'))\n",
    "    \n",
    "tmp = pd.concat(tmp).reset_index(drop = True)"
   ]
  },
  {
   "cell_type": "markdown",
   "id": "d0ed9a6b",
   "metadata": {},
   "source": [
    "## process combined data"
   ]
  },
  {
   "cell_type": "code",
   "execution_count": null,
   "id": "75ff0d38",
   "metadata": {},
   "outputs": [],
   "source": [
    "def get_time(x):\n",
    "    if type(x) != str:\n",
    "        return np.nan\n",
    "    x = x.split(':')\n",
    "    if len(x) == 3:\n",
    "        return int(x[0])*60 + int(x[1]) + int(x[2])/60\n",
    "    elif len(x) == 2:\n",
    "        return int(x[0]) + int(x[1])/60"
   ]
  },
  {
   "cell_type": "code",
   "execution_count": null,
   "id": "6ba57f15",
   "metadata": {},
   "outputs": [],
   "source": [
    "df = (tmp\n",
    "    .assign(\n",
    "        gender = tmp.category.str.contains('M').map({True: 'M', False: 'F'}).astype('category'),\n",
    "        agegroup = (tmp.category\n",
    "                    .replace({'JM10': 'JM00-10', 'JW10':'JW00-10'})\n",
    "                    .str[-5:]\n",
    "                    .astype(CategoricalDtype(ordered = True))),\n",
    "        time = tmp['Best Time'].apply(get_time)\n",
    "    )\n",
    "    .drop(['Rank','Club', 'Best Time', 'category'], axis = 1)\n",
    "    .rename({'Number of Runs': 'n', 'parkrunner': 'name'}, axis = 1)\n",
    "    .astype({'n': int, 'parkrun': 'category', 'state': 'category'})\n",
    ")"
   ]
  },
  {
   "cell_type": "code",
   "execution_count": null,
   "id": "9e8d6cd3",
   "metadata": {},
   "outputs": [],
   "source": [
    "df.to_csv(f'processed_{date.today()}.csv', index = False)"
   ]
  }
 ],
 "metadata": {
  "kernelspec": {
   "display_name": "Python 3 (ipykernel)",
   "language": "python",
   "name": "python3"
  }
 },
 "nbformat": 4,
 "nbformat_minor": 5
}
