{
 "cells": [
  {
   "cell_type": "code",
   "execution_count": 8,
   "id": "5d24def3",
   "metadata": {},
   "outputs": [],
   "source": [
    "import numpy as np\n",
    "import pandas as pd\n",
    "import pyarrow.parquet as pq\n",
    "\n",
    "import seaborn as sns\n",
    "import matplotlib.pyplot as plt\n",
    "\n",
    "from ipywidgets import *\n",
    "from helper import autoFill"
   ]
  },
  {
   "cell_type": "code",
   "execution_count": 9,
   "id": "c6e08e78",
   "metadata": {},
   "outputs": [],
   "source": [
    "# load cleaned data\n",
    "df = pq.read_table('cleaned.parquet').to_pandas()"
   ]
  },
  {
   "cell_type": "markdown",
   "id": "1a37a14d-64cf-499d-abcd-e17378ad3d00",
   "metadata": {},
   "source": [
    "# Select a parkrun and compare the stats with Australia overall"
   ]
  },
  {
   "cell_type": "code",
   "execution_count": 10,
   "id": "41a65c2d",
   "metadata": {},
   "outputs": [],
   "source": [
    "# plot data\n",
    "def standard_plots(df, run, state):\n",
    "\n",
    "    fig,ax = plt.subplots(2,2, figsize = (8,5))\n",
    "    plt.suptitle(f'Statistics of {run} parkrun compared across {state}')\n",
    "    \n",
    "    df_run = df.query('parkrun == @run')\n",
    "    \n",
    "    # distribution of parkrunners\n",
    "    if state != 'Australia':\n",
    "        df = df.query('state == @state')\n",
    "    \n",
    "    tmp = (df.groupby(['parkrun','gender','agegroup'])['name'].count()[run]/len(df_run)).reset_index()\n",
    "    sns.lineplot(\n",
    "        ax = ax[0,0], data = tmp, x = 'agegroup', y = 'name', \n",
    "        hue = 'gender', style = 'gender', marker = 'o', mew = 0\n",
    "    )\n",
    "    [(df.groupby(['gender','agegroup'])['name'].count()/len(df)).loc[gen].plot(ax = ax[0,0],c=col,ls=sty,lw=1,alpha=0.5) for gen,col,sty in zip(['F', 'M'],sns.color_palette('tab10')[:2], ['-', '--'])]\n",
    "    ax[0,0].set(title = 'Distribution of total number of runners', ylabel = '')\n",
    "    \n",
    "    # mean number of runs\n",
    "    tmp = df.query('parkrun == @run').groupby(['gender','agegroup'])['n'].mean().reset_index()\n",
    "    sns.lineplot(\n",
    "        ax = ax[0,1], data = tmp, x = 'agegroup', y = 'n', \n",
    "        hue = 'gender', style = 'gender', marker = 'o', mew = 0\n",
    "    )\n",
    "    [df.groupby(['gender','agegroup'])['n'].mean().loc[gen].plot(ax = ax[0,1],c=col,ls=sty,lw=1,alpha=0.5) for gen,col,sty in zip(['F', 'M'],sns.color_palette('tab10')[:2], ['-', '--'])]\n",
    "    ax[0,1].set(title = 'Mean number of runs per runner', ylim = [0,15])\n",
    "    \n",
    "    # best time\n",
    "    tmp = df_run.groupby(['gender','agegroup'])['time'].min().reset_index()\n",
    "    sns.lineplot(\n",
    "        ax = ax[1,0],data = tmp, x = 'agegroup', y = 'time', \n",
    "        hue = 'gender', style = 'gender', marker = 'o', mew = 0\n",
    "    )\n",
    "    [df.groupby(['gender','agegroup'])['time'].min().loc[gen].plot(ax = ax[1,0],c=col,ls=sty,lw=1,alpha=0.5) for gen,col,sty in zip(['F', 'M'],sns.color_palette('tab10')[:2], ['-', '--'])]\n",
    "    ax[1,0].set(ylim = [10,30], ylabel = 'time (min)', title = 'Best time')\n",
    "    \n",
    "    # average time\n",
    "    tmp = df_run.groupby(['gender','agegroup'])['time'].mean().reset_index()\n",
    "    sns.lineplot(\n",
    "        ax = ax[1,1],data = tmp, x = 'agegroup', y = 'time', \n",
    "        hue = 'gender', style = 'gender', marker = 'o', mew = 0\n",
    "    )\n",
    "    [df.groupby(['gender','agegroup'])['time'].mean().loc[gen].plot(ax = ax[1,1],c=col,ls=sty,lw=1,alpha=0.5) for gen,col,sty in zip(['F', 'M'],sns.color_palette('tab10')[:2], ['-', '--'])]\n",
    "    ax[1,1].set(ylim = [20,50], ylabel = 'time (min)', title = 'Average time')\n",
    "    \n",
    "    [ax_.set(xlabel = '') for ax_ in ax.flat]\n",
    "    [ax_.tick_params(axis='x', rotation=90) for ax_ in ax.flat]\n",
    "    plt.tight_layout()\n",
    "    plt.show()"
   ]
  },
  {
   "cell_type": "code",
   "execution_count": 11,
   "id": "89c10662-42a7-4fd9-ae82-306369e98a34",
   "metadata": {},
   "outputs": [
    {
     "data": {
      "application/vnd.jupyter.widget-view+json": {
       "model_id": "6af4b2ccfef449198b3f8fd0ad20e1eb",
       "version_major": 2,
       "version_minor": 0
      },
      "text/plain": [
       "Output()"
      ]
     },
     "metadata": {},
     "output_type": "display_data"
    }
   ],
   "source": [
    "def select_parkrun():\n",
    "    \n",
    "    out = Output()\n",
    "        \n",
    "    autofill = autoFill(df.parkrun.unique().tolist(), placehold = 'Type name of parkrun here')\n",
    "\n",
    "    @out.capture()\n",
    "    def on_submit(b):\n",
    "        out.clear_output()\n",
    "        run = autofill.children[0].children[0].value\n",
    "        if toggle_button.value == 'state':\n",
    "            state = df.query('parkrun == @run').state.iloc[0]\n",
    "        else:\n",
    "            state = 'Australia'\n",
    "        display(boxes)\n",
    "        if run in df.parkrun.unique():\n",
    "            standard_plots(df, run, state)\n",
    "        else:\n",
    "            display(\"We couldn't find this parkrun, please reset selection and try again\")\n",
    "\n",
    "    @out.capture()\n",
    "    def on_reset_clicked(b):\n",
    "        out.clear_output()\n",
    "        select_parkrun()\n",
    "    \n",
    "    toggle_button = ToggleButtons(value = 'state', options = ['state', 'country'], description = '', layout = dict(width = '200px'))\n",
    "    display_button = Button(description = 'Display stats', style = dict(button_color = 'green', text_color = 'white'))\n",
    "    display_button.on_click(on_submit)\n",
    "    reset_button = Button(description = 'Reset selection', button_style = 'danger',style = dict(text_color = 'white'))\n",
    "    reset_button.on_click(on_reset_clicked)\n",
    "    \n",
    "    boxes = HBox([autofill, toggle_button, VBox([display_button, reset_button])])\n",
    "    \n",
    "    with out:\n",
    "        display(boxes)\n",
    "        \n",
    "    display(out)\n",
    "    \n",
    "select_parkrun()"
   ]
  },
  {
   "cell_type": "code",
   "execution_count": null,
   "id": "a67cd76f-e633-4a55-a6f4-2bce9416f562",
   "metadata": {},
   "outputs": [],
   "source": []
  }
 ],
 "metadata": {
  "kernelspec": {
   "display_name": "Python 3 (ipykernel)",
   "language": "python",
   "name": "python3"
  },
  "language_info": {
   "codemirror_mode": {
    "name": "ipython",
    "version": 3
   },
   "file_extension": ".py",
   "mimetype": "text/x-python",
   "name": "python",
   "nbconvert_exporter": "python",
   "pygments_lexer": "ipython3",
   "version": "3.10.6"
  }
 },
 "nbformat": 4,
 "nbformat_minor": 5
}
