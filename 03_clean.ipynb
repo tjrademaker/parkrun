{
 "cells": [
  {
   "cell_type": "markdown",
   "id": "58b04be2",
   "metadata": {},
   "source": [
    "# Process data"
   ]
  },
  {
   "cell_type": "code",
   "execution_count": null,
   "id": "89ecaab6",
   "metadata": {},
   "outputs": [],
   "source": [
    "import os\n",
    "import numpy as np\n",
    "import pandas as pd\n",
    "from datetime import date\n",
    "\n",
    "from pandas.api.types import CategoricalDtype"
   ]
  },
  {
   "cell_type": "markdown",
   "id": "b3f92570",
   "metadata": {},
   "source": [
    "## load processed data"
   ]
  },
  {
   "cell_type": "code",
   "execution_count": null,
   "id": "64606b16",
   "metadata": {},
   "outputs": [],
   "source": [
    "datafile = f'processed_{date.today()}.csv'\n",
    "\n",
    "# check if datafile is most up-to-date\n",
    "[print('not using the latest data') for file in os.listdir() if (file.startswith('combined') & (datafile < file))]\n",
    "\n",
    "df = pd.read_csv(datafile).astype({'n': int, 'parkrun': 'category', 'state': 'category', 'gender': 'category', 'agegroup': CategoricalDtype(ordered=True)})"
   ]
  },
  {
   "cell_type": "markdown",
   "id": "0fe85c1a",
   "metadata": {},
   "source": [
    "## clean data\n",
    "\n",
    "### Exclude entries with shared name & gender and agegroups > 12 years apart"
   ]
  },
  {
   "cell_type": "code",
   "execution_count": null,
   "id": "3e45b7d6",
   "metadata": {},
   "outputs": [],
   "source": [
    "# Parkrun have been organized in Australia for 12 years and counting so a name/gender cannot be associated with more than 12 years across age groups\n",
    "df['EXCLUDE_AGE'] = df.groupby(['name','gender'])['agegroup'].transform(lambda x: (int(x.max()[:2]) - int(x.min()[-2:])) > 12)"
   ]
  },
  {
   "cell_type": "markdown",
   "id": "b1ab63ed",
   "metadata": {},
   "source": [
    "### Exclude parkruns with less than 100 runs"
   ]
  },
  {
   "cell_type": "code",
   "execution_count": null,
   "id": "18907d9d",
   "metadata": {},
   "outputs": [],
   "source": [
    "# Could make more strict to active parkruns only (merge with new data)\n",
    "df['EXCLUDE_RUN'] = df.groupby('parkrun')['n'].transform(lambda x: x.sum()) < 100"
   ]
  },
  {
   "cell_type": "markdown",
   "id": "feff8873",
   "metadata": {},
   "source": [
    "### Other exclusions?\n",
    "- i.e. more refined age exclusion with for instance one or more agegroups missing between the large gaps -> two people"
   ]
  },
  {
   "cell_type": "markdown",
   "id": "375c3d27",
   "metadata": {},
   "source": [
    "## save cleaned data"
   ]
  },
  {
   "cell_type": "code",
   "execution_count": null,
   "id": "ef801941",
   "metadata": {},
   "outputs": [],
   "source": [
    "df.query('not (EXCLUDE_AGE or EXCLUDE_RUN)').drop(['EXCLUDE_AGE','EXCLUDE_RUN'], axis = 1).to_csv(f'cleaned_{date.today()}.csv', index = False)"
   ]
  }
 ],
 "metadata": {
  "kernelspec": {
   "display_name": "Python 3 (ipykernel)",
   "language": "python",
   "name": "python3"
  }
 },
 "nbformat": 4,
 "nbformat_minor": 5
}
