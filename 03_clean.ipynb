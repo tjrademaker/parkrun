{
 "cells": [
  {
   "cell_type": "markdown",
   "id": "58b04be2",
   "metadata": {},
   "source": [
    "# Clean data"
   ]
  },
  {
   "cell_type": "code",
   "execution_count": 1,
   "id": "89ecaab6",
   "metadata": {},
   "outputs": [],
   "source": [
    "import os\n",
    "import numpy as np\n",
    "import pandas as pd\n",
    "from datetime import date\n",
    "import pyarrow as pa\n",
    "import pyarrow.parquet as pq"
   ]
  },
  {
   "cell_type": "code",
   "execution_count": 9,
   "id": "64606b16",
   "metadata": {},
   "outputs": [],
   "source": [
    "# load processed data\n",
    "df = pq.read_table('processed.parquet').to_pandas()"
   ]
  },
  {
   "cell_type": "markdown",
   "id": "0fe85c1a",
   "metadata": {},
   "source": [
    "### Exclude entries with shared name & gender and agegroups > 12 years apart"
   ]
  },
  {
   "cell_type": "code",
   "execution_count": 4,
   "id": "3e45b7d6",
   "metadata": {},
   "outputs": [],
   "source": [
    "# Parkrun have been organized in Australia for 12 years and counting so a name/gender cannot be associated with more than 12 years across age groups\n",
    "df['EXCLUDE_AGE'] = df.groupby(['name','gender'])['agegroup'].transform(lambda x: (int(x.max()[:2]) - int(x.min()[-2:])) > 12)"
   ]
  },
  {
   "cell_type": "markdown",
   "id": "b1ab63ed",
   "metadata": {},
   "source": [
    "### Exclude parkruns with less than 100 runs"
   ]
  },
  {
   "cell_type": "code",
   "execution_count": 5,
   "id": "18907d9d",
   "metadata": {},
   "outputs": [],
   "source": [
    "# Could make more strict to active parkruns only (merge with new data)\n",
    "df['EXCLUDE_RUN'] = df.groupby('parkrun')['n'].transform(lambda x: x.sum()) < 100"
   ]
  },
  {
   "cell_type": "markdown",
   "id": "feff8873",
   "metadata": {},
   "source": [
    "### Other exclusions?\n",
    "- i.e. more refined age exclusion with for instance one or more agegroups missing between the large gaps -> two people"
   ]
  },
  {
   "cell_type": "markdown",
   "id": "375c3d27",
   "metadata": {},
   "source": [
    "## save cleaned data"
   ]
  },
  {
   "cell_type": "code",
   "execution_count": 8,
   "id": "009a756c-1675-4c91-9a57-7c96627c47ad",
   "metadata": {},
   "outputs": [
    {
     "name": "stdout",
     "output_type": "stream",
     "text": [
      "<class 'pandas.core.frame.DataFrame'>\n",
      "Int64Index: 1931708 entries, 0 to 2282436\n",
      "Data columns (total 7 columns):\n",
      " #   Column    Dtype   \n",
      "---  ------    -----   \n",
      " 0   name      object  \n",
      " 1   n         int64   \n",
      " 2   parkrun   category\n",
      " 3   state     category\n",
      " 4   gender    category\n",
      " 5   agegroup  category\n",
      " 6   time      float64 \n",
      "dtypes: category(4), float64(1), int64(1), object(1)\n",
      "memory usage: 68.2+ MB\n"
     ]
    }
   ],
   "source": [
    "df = df.query('not (EXCLUDE_AGE or EXCLUDE_RUN)').drop(['EXCLUDE_AGE','EXCLUDE_RUN'], axis = 1)\n",
    "df.info()"
   ]
  },
  {
   "cell_type": "code",
   "execution_count": 8,
   "id": "ef801941",
   "metadata": {},
   "outputs": [],
   "source": [
    "table = pa.Table.from_pandas(df, preserve_index = False)\n",
    "pq.write_table(table, 'cleaned.parquet')"
   ]
  }
 ],
 "metadata": {
  "kernelspec": {
   "display_name": "Python 3 (ipykernel)",
   "language": "python",
   "name": "python3"
  },
  "language_info": {
   "codemirror_mode": {
    "name": "ipython",
    "version": 3
   },
   "file_extension": ".py",
   "mimetype": "text/x-python",
   "name": "python",
   "nbconvert_exporter": "python",
   "pygments_lexer": "ipython3",
   "version": "3.10.6"
  }
 },
 "nbformat": 4,
 "nbformat_minor": 5
}
