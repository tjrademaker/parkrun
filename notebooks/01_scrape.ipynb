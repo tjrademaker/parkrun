{
 "cells": [
  {
   "cell_type": "markdown",
   "id": "51b7b050",
   "metadata": {},
   "source": [
    "# Scrape data"
   ]
  },
  {
   "cell_type": "code",
   "execution_count": 1,
   "id": "2efa2381",
   "metadata": {},
   "outputs": [],
   "source": [
    "from pathlib import Path\n",
    "import pandas as pd\n",
    "import requests\n",
    "from lxml.html import parse\n",
    "from tqdm.notebook import tqdm\n",
    "\n",
    "import re\n",
    "import json\n",
    "\n",
    "from helper import *"
   ]
  },
  {
   "cell_type": "code",
   "execution_count": 2,
   "id": "4f3efa70",
   "metadata": {},
   "outputs": [],
   "source": [
    "# create session\n",
    "s = requests.Session()\n",
    "\n",
    "headers = {\n",
    "    'Host': 'www.parkrun.com.au',\n",
    "    'User-Agent': 'Mozilla/5.0 (X11; Ubuntu; Linux x86_64; rv:88.0) Gecko/20100101 Firefox/88.0',\n",
    "    'Accept': 'text/html,application/xhtml+xml,application/xml;q=0.9,image/webp,*/*;q=0.8',\n",
    "    'Accept-Language': 'ru-RU,ru;q=0.8,en-US;q=0.5,en;q=0.3',\n",
    "    'Accept-Encoding': 'gzip, deflate, br',\n",
    "    'Connection': 'keep-alive',\n",
    "    'Upgrade-Insecure-Requests': '1',\n",
    "    'Sec-GPC': '1',\n",
    "    'TE': 'Trailers'\n",
    "}\n",
    "\n",
    "# add headers\n",
    "s.headers.update(headers)"
   ]
  },
  {
   "cell_type": "code",
   "execution_count": 3,
   "id": "6ebc2769",
   "metadata": {},
   "outputs": [
    {
     "data": {
      "text/plain": [
       "0        Airlie Beach\n",
       "1    Albert Melbourne\n",
       "2      Alberton Ascot\n",
       "3      Albury Wodonga\n",
       "4       Aldinga Beach\n",
       "Name: Event, dtype: object"
      ]
     },
     "execution_count": 3,
     "metadata": {},
     "output_type": "execute_result"
    }
   ],
   "source": [
    "# get names of all Australian parkruns\n",
    "url = 'https://www.parkrun.com.au/results/courserecords/'\n",
    "result = s.get(url, headers=headers)\n",
    "parkruns = pd.read_html(result.text)[0].iloc[:,0]\n",
    "parkruns.name = 'Event'\n",
    "parkruns.head()"
   ]
  },
  {
   "cell_type": "code",
   "execution_count": 14,
   "id": "ca451ac9-65da-4e07-b426-ead05b9c33f0",
   "metadata": {},
   "outputs": [],
   "source": [
    "# save full name and url name for downstream analysis\n",
    "fullname = {}\n",
    "for parkrun in parkruns:\n",
    "    url_name = re.compile('[^a-z]').sub('', parkrun.lower())\n",
    "    if url_name == 'frankstonnatureconservationreserve': url_name = 'frankstonnatureconservationres'\n",
    "    fullname[url_name] = parkrun\n",
    "    \n",
    "fullname_inv = {v: k for k, v in fullname.items()}\n",
    "    \n",
    "with open('../data/fullname.json','w') as f:\n",
    "    json.dump(fullname, f)    "
   ]
  },
  {
   "cell_type": "code",
   "execution_count": 4,
   "id": "a7633dff",
   "metadata": {},
   "outputs": [],
   "source": [
    "# extract states of parkrun for later analysis\n",
    "states_path = Path('../data/states.json')\n",
    "if states_path.exists():\n",
    "    with open(states_path, 'r') as f:\n",
    "        locations = json.load(f)\n",
    "\n",
    "else:\n",
    "    # query full address from parkrun name\n",
    "    locations = query_address(parkruns)\n",
    "      \n",
    "    # extract state from address; if state can't be found, request manual input\n",
    "    for parkrun, address in locations.items():\n",
    "        locations[parkrun] = get_state(parkrun, address)\n",
    "    \n",
    "    # save for later usage\n",
    "    with open(states_path,'w') as f:\n",
    "        json.dump(locations, f)"
   ]
  },
  {
   "cell_type": "code",
   "execution_count": 5,
   "id": "4fb05256",
   "metadata": {},
   "outputs": [],
   "source": [
    "# grab age and gender categories from a random parkrun (St Peters)\n",
    "url = f'https://www.parkrun.com.au/stpeters/results/agecategoryrecords/'\n",
    "\n",
    "result = s.get(url, headers=headers, stream=True)\n",
    "result.raw.decode_content = True\n",
    "tree = parse(result.raw)\n",
    "\n",
    "categories = tree.xpath('//tbody/tr/td[1]/a/@href')"
   ]
  },
  {
   "cell_type": "code",
   "execution_count": 15,
   "id": "1607eea8",
   "metadata": {},
   "outputs": [
    {
     "data": {
      "application/vnd.jupyter.widget-view+json": {
       "model_id": "0c4df9c3ad7849bea9e62388edb6bf08",
       "version_major": 2,
       "version_minor": 0
      },
      "text/plain": [
       "  0%|          | 0/455 [00:00<?, ?it/s]"
      ]
     },
     "metadata": {},
     "output_type": "display_data"
    }
   ],
   "source": [
    "# find people's PBs per agegroup for every parkrun and save as csv\n",
    "for parkrun in tqdm(parkruns):\n",
    "    \n",
    "    # remove formatting from parkrun name for urlname\n",
    "    url_name = fullname_inv[parkrun]    \n",
    "    pr_path = Path(f'../data/{url_name}.csv')\n",
    "    \n",
    "    # check if data has already been scraped\n",
    "    if pr_path.exists():\n",
    "        ## TODO save as parquet as well\n",
    "        # df = pd.read_csv(pr_path)\n",
    "        # df.to_csv(pr_path, index = False)        \n",
    "        continue\n",
    "\n",
    "    dfs_ = []\n",
    "\n",
    "    for category in tqdm(categories):\n",
    "        url = f'https://www.parkrun.com.au/{url_name}/results/agecategoryrecords/{category}'\n",
    "        age_results = s.get(url, headers=headers)\n",
    "        try:\n",
    "            df = pd.read_html(age_results.text)[0].drop(columns = ['Rank', 'Club'])\n",
    "        except:\n",
    "            print('No data retrieved for %s in %s' % (category, parkrun))\n",
    "            continue\n",
    "        df['category'] = category.split('=')[1]\n",
    "        dfs_.append(df)\n",
    "    dfs_ = pd.concat(dfs_)\n",
    "\n",
    "    #TODO set dtypes before saving\n",
    "    dfs_.to_csv(pr_path, index = False)"
   ]
  },
  {
   "cell_type": "code",
   "execution_count": null,
   "id": "f926a417-b970-4094-8ba4-b1a3df2bafff",
   "metadata": {},
   "outputs": [],
   "source": []
  }
 ],
 "metadata": {
  "kernelspec": {
   "display_name": "Python 3 (ipykernel)",
   "language": "python",
   "name": "python3"
  },
  "language_info": {
   "codemirror_mode": {
    "name": "ipython",
    "version": 3
   },
   "file_extension": ".py",
   "mimetype": "text/x-python",
   "name": "python",
   "nbconvert_exporter": "python",
   "pygments_lexer": "ipython3",
   "version": "3.10.6"
  }
 },
 "nbformat": 4,
 "nbformat_minor": 5
}
