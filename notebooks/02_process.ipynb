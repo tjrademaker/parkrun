{
 "cells": [
  {
   "cell_type": "markdown",
   "id": "dccc6c0f",
   "metadata": {},
   "source": [
    "# Process data"
   ]
  },
  {
   "cell_type": "code",
   "execution_count": 1,
   "id": "799054a7",
   "metadata": {},
   "outputs": [],
   "source": [
    "import json\n",
    "import os\n",
    "import numpy as np\n",
    "import pandas as pd\n",
    "from datetime import date\n",
    "from pandas.api.types import CategoricalDtype\n",
    "\n",
    "import pyarrow as pa\n",
    "import pyarrow.parquet as pq"
   ]
  },
  {
   "cell_type": "markdown",
   "id": "702a55cc",
   "metadata": {},
   "source": [
    "## load raw data"
   ]
  },
  {
   "cell_type": "code",
   "execution_count": 2,
   "id": "4935e1eb-0ace-4467-9bc4-0b3a2d1882af",
   "metadata": {},
   "outputs": [],
   "source": [
    "with open('../data/states.json', 'r') as f:\n",
    "    locations = json.load(f)\n",
    "    \n",
    "with open('../data/fullname.json', 'r') as f:\n",
    "    fullname = json.load(f)"
   ]
  },
  {
   "cell_type": "code",
   "execution_count": 3,
   "id": "1ec39015",
   "metadata": {},
   "outputs": [],
   "source": [
    "tmp = []\n",
    "\n",
    "for run in os.listdir('../data'):\n",
    "    if not run.endswith('.csv'):\n",
    "        continue\n",
    "    df = pd.read_csv(f'../data/{run}')\n",
    "    parkrun = fullname[run[:-4]]\n",
    "    df['parkrun'] = parkrun\n",
    "    df['state'] = locations[parkrun]\n",
    "    tmp.append(df)\n",
    "    \n",
    "tmp = pd.concat(tmp).reset_index(drop = True)"
   ]
  },
  {
   "cell_type": "code",
   "execution_count": 4,
   "id": "eec50027-2140-414f-98eb-203aed495327",
   "metadata": {},
   "outputs": [
    {
     "data": {
      "text/html": [
       "<div>\n",
       "<style scoped>\n",
       "    .dataframe tbody tr th:only-of-type {\n",
       "        vertical-align: middle;\n",
       "    }\n",
       "\n",
       "    .dataframe tbody tr th {\n",
       "        vertical-align: top;\n",
       "    }\n",
       "\n",
       "    .dataframe thead th {\n",
       "        text-align: right;\n",
       "    }\n",
       "</style>\n",
       "<table border=\"1\" class=\"dataframe\">\n",
       "  <thead>\n",
       "    <tr style=\"text-align: right;\">\n",
       "      <th></th>\n",
       "      <th>parkrunner</th>\n",
       "      <th>Number of Runs</th>\n",
       "      <th>Best Time</th>\n",
       "      <th>category</th>\n",
       "      <th>parkrun</th>\n",
       "      <th>state</th>\n",
       "    </tr>\n",
       "  </thead>\n",
       "  <tbody>\n",
       "    <tr>\n",
       "      <th>0</th>\n",
       "      <td>Oliver PURCELL</td>\n",
       "      <td>7</td>\n",
       "      <td>19:28</td>\n",
       "      <td>JM10</td>\n",
       "      <td>Airlie Beach</td>\n",
       "      <td>QLD</td>\n",
       "    </tr>\n",
       "    <tr>\n",
       "      <th>1</th>\n",
       "      <td>Jack OBERG</td>\n",
       "      <td>65</td>\n",
       "      <td>20:35</td>\n",
       "      <td>JM10</td>\n",
       "      <td>Airlie Beach</td>\n",
       "      <td>QLD</td>\n",
       "    </tr>\n",
       "    <tr>\n",
       "      <th>2</th>\n",
       "      <td>Flynn PURCELL</td>\n",
       "      <td>6</td>\n",
       "      <td>20:44</td>\n",
       "      <td>JM10</td>\n",
       "      <td>Airlie Beach</td>\n",
       "      <td>QLD</td>\n",
       "    </tr>\n",
       "    <tr>\n",
       "      <th>3</th>\n",
       "      <td>William MIDDLETON</td>\n",
       "      <td>1</td>\n",
       "      <td>22:29</td>\n",
       "      <td>JM10</td>\n",
       "      <td>Airlie Beach</td>\n",
       "      <td>QLD</td>\n",
       "    </tr>\n",
       "    <tr>\n",
       "      <th>4</th>\n",
       "      <td>Banjo MOSER</td>\n",
       "      <td>2</td>\n",
       "      <td>23:10</td>\n",
       "      <td>JM10</td>\n",
       "      <td>Airlie Beach</td>\n",
       "      <td>QLD</td>\n",
       "    </tr>\n",
       "  </tbody>\n",
       "</table>\n",
       "</div>"
      ],
      "text/plain": [
       "          parkrunner  Number of Runs Best Time category       parkrun state\n",
       "0     Oliver PURCELL               7     19:28     JM10  Airlie Beach   QLD\n",
       "1         Jack OBERG              65     20:35     JM10  Airlie Beach   QLD\n",
       "2      Flynn PURCELL               6     20:44     JM10  Airlie Beach   QLD\n",
       "3  William MIDDLETON               1     22:29     JM10  Airlie Beach   QLD\n",
       "4        Banjo MOSER               2     23:10     JM10  Airlie Beach   QLD"
      ]
     },
     "execution_count": 4,
     "metadata": {},
     "output_type": "execute_result"
    }
   ],
   "source": [
    "tmp.head()"
   ]
  },
  {
   "cell_type": "markdown",
   "id": "d0ed9a6b",
   "metadata": {},
   "source": [
    "## process combined data"
   ]
  },
  {
   "cell_type": "code",
   "execution_count": 5,
   "id": "75ff0d38",
   "metadata": {},
   "outputs": [],
   "source": [
    "def get_time(x):\n",
    "    if type(x) != str:\n",
    "        return np.nan\n",
    "    x = x.split(':')\n",
    "    if len(x) == 3:\n",
    "        return int(x[0])*60 + int(x[1]) + int(x[2])/60\n",
    "    elif len(x) == 2:\n",
    "        return int(x[0]) + int(x[1])/60"
   ]
  },
  {
   "cell_type": "code",
   "execution_count": 6,
   "id": "6ba57f15",
   "metadata": {},
   "outputs": [],
   "source": [
    "df = (tmp\n",
    "    .assign(\n",
    "        gender = tmp.category.str.contains('M').map({True: 'M', False: 'F'}).astype('category'),\n",
    "        agegroup = (tmp.category\n",
    "                    .replace({'JM10': 'JM00-10', 'JW10':'JW00-10'})\n",
    "                    .str[-5:]\n",
    "                    .astype(CategoricalDtype(ordered = True))),\n",
    "        time = tmp['Best Time'].apply(get_time)\n",
    "    )\n",
    "    .drop(['Best Time', 'category'], axis = 1)\n",
    "    .rename({'Number of Runs': 'n', 'parkrunner': 'name'}, axis = 1)\n",
    "    .astype({'n': int, 'parkrun': 'category', 'state': 'category'})\n",
    ")"
   ]
  },
  {
   "cell_type": "code",
   "execution_count": 7,
   "id": "a3fe1a4f-d83a-43ea-a3d9-5e4b55eb9410",
   "metadata": {},
   "outputs": [
    {
     "data": {
      "text/plain": [
       "2282437"
      ]
     },
     "execution_count": 7,
     "metadata": {},
     "output_type": "execute_result"
    }
   ],
   "source": [
    "len(df)"
   ]
  },
  {
   "cell_type": "code",
   "execution_count": 8,
   "id": "5e6844eb-be08-4bb7-96e3-40edfb8b6fb6",
   "metadata": {},
   "outputs": [],
   "source": [
    "table = pa.Table.from_pandas(df, preserve_index = False)\n",
    "pq.write_table(table, '../data/processed.parquet')"
   ]
  }
 ],
 "metadata": {
  "kernelspec": {
   "display_name": "Python 3 (ipykernel)",
   "language": "python",
   "name": "python3"
  },
  "language_info": {
   "codemirror_mode": {
    "name": "ipython",
    "version": 3
   },
   "file_extension": ".py",
   "mimetype": "text/x-python",
   "name": "python",
   "nbconvert_exporter": "python",
   "pygments_lexer": "ipython3",
   "version": "3.10.6"
  }
 },
 "nbformat": 4,
 "nbformat_minor": 5
}
