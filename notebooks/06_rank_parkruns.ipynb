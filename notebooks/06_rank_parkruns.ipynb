{
 "cells": [
  {
   "cell_type": "markdown",
   "id": "489f79c2",
   "metadata": {},
   "source": [
    "# Rank parkruns by relative difference with overall PB"
   ]
  },
  {
   "cell_type": "code",
   "execution_count": 1,
   "id": "5d24def3",
   "metadata": {},
   "outputs": [],
   "source": [
    "import numpy as np\n",
    "import pandas as pd\n",
    "import pyarrow.parquet as pq\n",
    "\n",
    "from ipywidgets import *\n",
    "import plotly.express as px"
   ]
  },
  {
   "cell_type": "code",
   "execution_count": 2,
   "id": "c6e08e78",
   "metadata": {},
   "outputs": [
    {
     "name": "stderr",
     "output_type": "stream",
     "text": [
      "C:\\Users\\thomas.rademaker\\AppData\\Local\\Temp\\ipykernel_5264\\1988209264.py:5: FutureWarning: The default of observed=False is deprecated and will be changed to True in a future version of pandas. Pass observed=False to retain current behavior or observed=True to adopt the future default and silence this warning.\n",
      "  df['PB'] = df.groupby(['name','gender','agegroup']).time.transform(min).values\n",
      "C:\\Users\\thomas.rademaker\\AppData\\Local\\Temp\\ipykernel_5264\\1988209264.py:5: FutureWarning: The provided callable <built-in function min> is currently using SeriesGroupBy.min. In a future version of pandas, the provided callable will be used directly. To keep current behavior pass the string \"min\" instead.\n",
      "  df['PB'] = df.groupby(['name','gender','agegroup']).time.transform(min).values\n"
     ]
    }
   ],
   "source": [
    "# load data\n",
    "df = pq.read_table('../data/cleaned.parquet').to_pandas()\n",
    "\n",
    "# add PB and relative difference with PB\n",
    "df['PB'] = df.groupby(['name','gender','agegroup']).time.transform(min).values\n",
    "df['rel_diff'] = (df.time-df.PB)/df.PB"
   ]
  },
  {
   "cell_type": "code",
   "execution_count": 6,
   "id": "b680701c-76f9-4646-a476-4f86a4fd2148",
   "metadata": {},
   "outputs": [],
   "source": [
    "def update_df(df, state, measure, n_runs, n_attempts, min_rel_diff):\n",
    "    \n",
    "    # select course PBs in state\n",
    "    df = df.query('state == @state')\n",
    "    \n",
    "    # select runners with at least n_attempts in at least n_runs in this state\n",
    "    freq = df.value_counts(['name','gender','agegroup'])\n",
    "    df = df.set_index(['name','gender','agegroup']).loc[freq[freq >= n_runs].index].reset_index()\n",
    "    df = df.query('n >= @n_attempts').reset_index(drop = True)\n",
    "\n",
    "    # select course PBs min_rel_diff within their overall PB\n",
    "    df = df.query('rel_diff <= @min_rel_diff')\n",
    "\n",
    "    tmp = df.groupby(['parkrun'], observed = False).rel_diff.agg([measure])\n",
    "    tmp['n'] = df.groupby('parkrun', observed = False).n.sum()\n",
    "    \n",
    "    tmp = tmp.query('n >= 100')\n",
    "    tmp = tmp[~tmp[measure].isna()]\n",
    "    \n",
    "    return tmp\n",
    "\n",
    "def plot_hover_graph(df, w1, w2, w3, w4, w5):\n",
    "    \n",
    "    state, measure, n_runs, n_attemps, min_rel_diff = w1, w2, w3, w4, w5\n",
    "\n",
    "    tmp = update_df(df, state, measure, n_runs, n_attemps, min_rel_diff)\n",
    "    if state in ['NSW', 'QLD', 'VIC']: width = 600\n",
    "    else: width = 500\n",
    "    fig = px.bar(tmp.sort_values(measure)[::-1].reset_index(), x = measure, y=\"parkrun\", hover_name=\"parkrun\", width=width, height=200+15*len(tmp))\n",
    "    fig.update_layout(yaxis_title='', xaxis_title='', title = f'Parkruns in {state} ranked by {measure} relative difference',  yaxis={'side': 'right'}, xaxis={'side': 'top'})\n",
    "    fig.show()    "
   ]
  },
  {
   "cell_type": "code",
   "execution_count": 7,
   "id": "88ca1ea4-00bf-48af-9e02-39345cf13b63",
   "metadata": {},
   "outputs": [],
   "source": [
    "w1 = Dropdown(options=df.state.unique().sort_values(), value='ACT', description='', layout = dict(width = '200px'))\n",
    "w2 = ToggleButtons(value = 'mean', options=['mean', 'median'], description='', layout = dict(width = '250px'))\n",
    "w3 = IntSlider(value = 2, min = 2, max = 10, description='', layout = dict(width = '250px'))\n",
    "w4 = IntSlider(value = 1, min = 1, max = 5, description='', layout = dict(width = '250px'))\n",
    "w5 = FloatSlider(value=1, min=0.1, max=1, step=0.1, description='', layout = dict(width = '250px'))\n",
    "\n",
    "labels = [HTML(val, layout = dict(display=\"flex\", justify_content=\"flex-start\")) for val in ['State', 'Aggregate relative difference as', 'Minimum number of parkruns / runner', 'Minimum number of attempts / parkrun', 'Minimum relative difference with overall PB to count as a PB attempt']]"
   ]
  },
  {
   "cell_type": "code",
   "execution_count": 8,
   "id": "f7de2694-ad03-4af3-8015-4b8694dfd969",
   "metadata": {},
   "outputs": [
    {
     "data": {
      "application/vnd.jupyter.widget-view+json": {
       "model_id": "83d862e078e24bbe94fcadff9a0ca996",
       "version_major": 2,
       "version_minor": 0
      },
      "text/plain": [
       "HBox(children=(VBox(children=(VBox(children=(HTML(value='State', layout=Layout(display='flex', justify_content…"
      ]
     },
     "metadata": {},
     "output_type": "display_data"
    }
   ],
   "source": [
    "controls = VBox([VBox([l, w]) for l, w in zip(labels, [w1, w2, w3, w4, w5])])\n",
    "out = widgets.interactive_output(plot_hover_graph, dict(df = fixed(df), w1 = w1, w2 = w2, w3 = w3, w4 = w4, w5 = w5))\n",
    "\n",
    "display(HBox([controls, out]))"
   ]
  },
  {
   "cell_type": "code",
   "execution_count": null,
   "id": "fc844eeb-6b53-4970-99b7-b60f3a15873f",
   "metadata": {},
   "outputs": [],
   "source": []
  }
 ],
 "metadata": {
  "kernelspec": {
   "display_name": "Python 3 (ipykernel)",
   "language": "python",
   "name": "python3"
  },
  "language_info": {
   "codemirror_mode": {
    "name": "ipython",
    "version": 3
   },
   "file_extension": ".py",
   "mimetype": "text/x-python",
   "name": "python",
   "nbconvert_exporter": "python",
   "pygments_lexer": "ipython3",
   "version": "3.10.11"
  }
 },
 "nbformat": 4,
 "nbformat_minor": 5
}
