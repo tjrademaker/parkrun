{
 "cells": [
  {
   "cell_type": "markdown",
   "id": "51b7b050",
   "metadata": {},
   "source": [
    "# Scrape data"
   ]
  },
  {
   "cell_type": "code",
   "execution_count": null,
   "id": "2efa2381",
   "metadata": {},
   "outputs": [],
   "source": [
    "from pathlib import Path\n",
    "import pandas as pd\n",
    "import seaborn as sns\n",
    "import matplotlib.pyplot as plt\n",
    "import numpy as np\n",
    "import requests\n",
    "from lxml.html import parse\n",
    "from tqdm.notebook import tqdm\n",
    "\n",
    "import re\n",
    "import json"
   ]
  },
  {
   "cell_type": "code",
   "execution_count": null,
   "id": "8c11363a",
   "metadata": {},
   "outputs": [],
   "source": [
    "def query_address(parkruns):\n",
    "    \n",
    "    from geopy.geocoders import Nominatim\n",
    "    from geopy.extra.rate_limiter import RateLimiter\n",
    "    geolocator = Nominatim(user_agent=\"my_email@my_server.com\")\n",
    "\n",
    "    locations = {}\n",
    "    for parkrun in tqdm(parkruns):\n",
    "        geocode = RateLimiter(geolocator.geocode, min_delay_seconds=1)\n",
    "        location = geocode(f'{parkrun}, Australia')\n",
    "        if location is not None:\n",
    "            locations[parkrun] = location.address\n",
    "        else:\n",
    "            locations[parkrun] = None\n",
    "            \n",
    "    return locations\n",
    "\n",
    "\n",
    "def get_state(parkrun, address):\n",
    "    \n",
    "    state_dict = {\n",
    "        'Australian Capital Territory': 'ACT', \n",
    "        'New South Wales': 'NSW', \n",
    "        'Northern Territory': 'NT',\n",
    "        'Queensland': 'QLD',\n",
    "        'South Australia': 'SA', \n",
    "        'Tasmania': 'TAS',\n",
    "        'Victoria': 'VIC',\n",
    "        'Western Australia': 'WA'\n",
    "    }\n",
    "    \n",
    "    if address is not None:\n",
    "        for k, v in state_dict.items():\n",
    "            if k in address:\n",
    "                return v\n",
    "    \n",
    "    return input(f\"Couldn't identify state for {parkrun}\\nPlease look up what state {parkrun} is in:\\n\")"
   ]
  },
  {
   "cell_type": "code",
   "execution_count": null,
   "id": "4f3efa70",
   "metadata": {},
   "outputs": [],
   "source": [
    "# create session\n",
    "s = requests.Session()\n",
    "\n",
    "headers = {\n",
    "    'Host': 'www.parkrun.com.au',\n",
    "    'User-Agent': 'Mozilla/5.0 (X11; Ubuntu; Linux x86_64; rv:88.0) Gecko/20100101 Firefox/88.0',\n",
    "    'Accept': 'text/html,application/xhtml+xml,application/xml;q=0.9,image/webp,*/*;q=0.8',\n",
    "    'Accept-Language': 'ru-RU,ru;q=0.8,en-US;q=0.5,en;q=0.3',\n",
    "    'Accept-Encoding': 'gzip, deflate, br',\n",
    "    'Connection': 'keep-alive',\n",
    "    'Upgrade-Insecure-Requests': '1',\n",
    "    'Sec-GPC': '1',\n",
    "    'TE': 'Trailers'\n",
    "}\n",
    "\n",
    "# add headers\n",
    "s.headers.update(headers)"
   ]
  },
  {
   "cell_type": "code",
   "execution_count": null,
   "id": "6ebc2769",
   "metadata": {},
   "outputs": [
    {
     "data": {
      "text/plain": [
       "0          Airlie Beach\n",
       "1      Albert Melbourne\n",
       "2        Albury Wodonga\n",
       "3         Aldinga Beach\n",
       "4          Altona Beach\n",
       "             ...       \n",
       "443             Yeppoon\n",
       "444              Yokine\n",
       "445           You Yangs\n",
       "446               Yowie\n",
       "447            Zillmere\n",
       "Name: (Unnamed: 0_level_0, Event), Length: 448, dtype: object"
      ]
     },
     "execution_count": null,
     "metadata": {},
     "output_type": "execute_result"
    }
   ],
   "source": [
    "# get names of all Australian parkruns\n",
    "url = 'https://www.parkrun.com.au/results/courserecords/'\n",
    "result = s.get(url, headers=headers)\n",
    "parkruns = pd.read_html(result.text)[0].iloc[:,0]\n",
    "parkruns"
   ]
  },
  {
   "cell_type": "code",
   "execution_count": null,
   "id": "a7633dff",
   "metadata": {},
   "outputs": [],
   "source": [
    "if Path('states.json').exists():\n",
    "    with open('states.json', 'r') as f:\n",
    "        locations = json.load(f)\n",
    "        locations['Nolen’s Park'] = locations['Nolen\\'s Park']\n",
    "        \n",
    "else:\n",
    "    # query full address from parkrun name\n",
    "    locations = query_address(parkruns)\n",
    "      \n",
    "    # extract state from address; if state can't be find, request manual input\n",
    "    for parkrun, address in locations.items():\n",
    "        locations[k] = get_state(parkrun, address, states)\n",
    "    \n",
    "    # save for later usage\n",
    "    with open('states.json','w') as f:\n",
    "        json.dump(locations, f)"
   ]
  },
  {
   "cell_type": "code",
   "execution_count": null,
   "id": "4fb05256",
   "metadata": {},
   "outputs": [],
   "source": [
    "# grab age and gender categories\n",
    "url = f'https://www.parkrun.com.au/{parkruns[0]}/results/agecategoryrecords/'\n",
    "\n",
    "result = s.get(url, headers=headers, stream=True)\n",
    "result.raw.decode_content = True\n",
    "tree = parse(result.raw)\n",
    "\n",
    "categories = tree.xpath('//tbody/tr/td[1]/a/@href')"
   ]
  },
  {
   "cell_type": "code",
   "execution_count": null,
   "id": "1607eea8",
   "metadata": {},
   "outputs": [
    {
     "data": {
      "application/json": {
       "ascii": false,
       "bar_format": null,
       "colour": null,
       "elapsed": 0.021184444427490234,
       "initial": 0,
       "n": 0,
       "ncols": null,
       "nrows": 30,
       "postfix": null,
       "prefix": "",
       "rate": null,
       "total": 448,
       "unit": "it",
       "unit_divisor": 1000,
       "unit_scale": false
      },
      "application/vnd.jupyter.widget-view+json": {
       "model_id": "4dea4785a5b84ce0ba49e6c2c47c20c5",
       "version_major": 2,
       "version_minor": 0
      },
      "text/plain": [
       "  0%|          | 0/448 [00:00<?, ?it/s]"
      ]
     },
     "metadata": {},
     "output_type": "display_data"
    }
   ],
   "source": [
    "# find people's PBs per agegroup for every parkrun and save as csv\n",
    "for parkrun in tqdm(parkruns):\n",
    "    \n",
    "    url_name = re.compile('[^a-z]').sub('', parkrun.lower())\n",
    "    if url_name == 'frankstonnatureconservationreserve': url_name = 'frankstonnatureconservationres'\n",
    "\n",
    "    pr_path = Path(f'data/{url_name}.csv')\n",
    "    \n",
    "    if pr_path.exists():\n",
    "        continue\n",
    "\n",
    "    dfs_ = []\n",
    "\n",
    "\n",
    "    for category in tqdm(categories):\n",
    "        url = f'https://www.parkrun.com.au/{url_name}/results/agecategoryrecords/{category}'\n",
    "        age_results = s.get(url, headers=headers)\n",
    "        try:\n",
    "            df = pd.read_html(age_results.text)[0]\n",
    "        except:\n",
    "            print('ОШИБКА - операция завершилась досрочно. Паркран временно заблокировал.')\n",
    "            continue\n",
    "        df['category'] = category.split('=')[1]\n",
    "        dfs_.append(df)\n",
    "    dfs_ = pd.concat(dfs_)\n",
    "    dfs_['parkrun'] = parkrun\n",
    "    dfs_['state'] = locations[parkrun]\n",
    "\n",
    "    dfs_.to_csv(pr_path, index = False)"
   ]
  }
 ],
 "metadata": {
  "kernelspec": {
   "display_name": "Python 3 (ipykernel)",
   "language": "python",
   "name": "python3"
  }
 },
 "nbformat": 4,
 "nbformat_minor": 5
}
